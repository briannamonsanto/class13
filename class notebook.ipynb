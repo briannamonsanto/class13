{
 "cells": [
  {
   "cell_type": "code",
   "execution_count": 1,
   "id": "ab94c545",
   "metadata": {},
   "outputs": [],
   "source": [
    "import pandas as pd "
   ]
  },
  {
   "cell_type": "code",
   "execution_count": 2,
   "id": "eb0105f8",
   "metadata": {},
   "outputs": [],
   "source": [
    "data = {'firm': ['Bilk Inc.', 'Vine & Co.', 'Kiln Inc.', 'Y & Y Consulting', 'Trending Inc.'],    'fee_2020': [1150, 2300, 3400, 1500, 6500]           }"
   ]
  },
  {
   "cell_type": "code",
   "execution_count": 3,
   "id": "d0bf57f2",
   "metadata": {},
   "outputs": [
    {
     "data": {
      "text/html": [
       "<div>\n",
       "<style scoped>\n",
       "    .dataframe tbody tr th:only-of-type {\n",
       "        vertical-align: middle;\n",
       "    }\n",
       "\n",
       "    .dataframe tbody tr th {\n",
       "        vertical-align: top;\n",
       "    }\n",
       "\n",
       "    .dataframe thead th {\n",
       "        text-align: right;\n",
       "    }\n",
       "</style>\n",
       "<table border=\"1\" class=\"dataframe\">\n",
       "  <thead>\n",
       "    <tr style=\"text-align: right;\">\n",
       "      <th></th>\n",
       "      <th>firm</th>\n",
       "      <th>fee_2020</th>\n",
       "    </tr>\n",
       "  </thead>\n",
       "  <tbody>\n",
       "    <tr>\n",
       "      <th>0</th>\n",
       "      <td>Bilk Inc.</td>\n",
       "      <td>1150</td>\n",
       "    </tr>\n",
       "    <tr>\n",
       "      <th>1</th>\n",
       "      <td>Vine &amp; Co.</td>\n",
       "      <td>2300</td>\n",
       "    </tr>\n",
       "    <tr>\n",
       "      <th>2</th>\n",
       "      <td>Kiln Inc.</td>\n",
       "      <td>3400</td>\n",
       "    </tr>\n",
       "    <tr>\n",
       "      <th>3</th>\n",
       "      <td>Y &amp; Y Consulting</td>\n",
       "      <td>1500</td>\n",
       "    </tr>\n",
       "    <tr>\n",
       "      <th>4</th>\n",
       "      <td>Trending Inc.</td>\n",
       "      <td>6500</td>\n",
       "    </tr>\n",
       "  </tbody>\n",
       "</table>\n",
       "</div>"
      ],
      "text/plain": [
       "               firm  fee_2020\n",
       "0         Bilk Inc.      1150\n",
       "1        Vine & Co.      2300\n",
       "2         Kiln Inc.      3400\n",
       "3  Y & Y Consulting      1500\n",
       "4     Trending Inc.      6500"
      ]
     },
     "execution_count": 3,
     "metadata": {},
     "output_type": "execute_result"
    }
   ],
   "source": [
    "df= pd.DataFrame(data)\n",
    "df"
   ]
  },
  {
   "cell_type": "code",
   "execution_count": 4,
   "id": "b6dd7bb2",
   "metadata": {},
   "outputs": [],
   "source": [
    "df[\"fee_2021\"] = df[\"fee_2020\"].apply(lambda x: x * 1.1)\n"
   ]
  },
  {
   "cell_type": "code",
   "execution_count": 5,
   "id": "8f4c103e",
   "metadata": {},
   "outputs": [],
   "source": [
    "df[\"fee_2022\"] = df[\"fee_2020\"].apply(lambda x: x * 1.4)\n"
   ]
  },
  {
   "cell_type": "code",
   "execution_count": 6,
   "id": "8d0ce48d",
   "metadata": {},
   "outputs": [],
   "source": [
    "df[\"value difference\"] = df.apply(lambda x: x[\"fee_2021\"] - x[\"fee_2020\"], axis =1 )"
   ]
  },
  {
   "cell_type": "code",
   "execution_count": 7,
   "id": "32b07625",
   "metadata": {},
   "outputs": [
    {
     "data": {
      "text/html": [
       "<div>\n",
       "<style scoped>\n",
       "    .dataframe tbody tr th:only-of-type {\n",
       "        vertical-align: middle;\n",
       "    }\n",
       "\n",
       "    .dataframe tbody tr th {\n",
       "        vertical-align: top;\n",
       "    }\n",
       "\n",
       "    .dataframe thead th {\n",
       "        text-align: right;\n",
       "    }\n",
       "</style>\n",
       "<table border=\"1\" class=\"dataframe\">\n",
       "  <thead>\n",
       "    <tr style=\"text-align: right;\">\n",
       "      <th></th>\n",
       "      <th>firm</th>\n",
       "      <th>fee_2020</th>\n",
       "      <th>fee_2021</th>\n",
       "      <th>fee_2022</th>\n",
       "      <th>value difference</th>\n",
       "    </tr>\n",
       "  </thead>\n",
       "  <tbody>\n",
       "    <tr>\n",
       "      <th>0</th>\n",
       "      <td>Bilk Inc.</td>\n",
       "      <td>1150</td>\n",
       "      <td>1265.0</td>\n",
       "      <td>1610.0</td>\n",
       "      <td>115.0</td>\n",
       "    </tr>\n",
       "    <tr>\n",
       "      <th>1</th>\n",
       "      <td>Vine &amp; Co.</td>\n",
       "      <td>2300</td>\n",
       "      <td>2530.0</td>\n",
       "      <td>3220.0</td>\n",
       "      <td>230.0</td>\n",
       "    </tr>\n",
       "    <tr>\n",
       "      <th>2</th>\n",
       "      <td>Kiln Inc.</td>\n",
       "      <td>3400</td>\n",
       "      <td>3740.0</td>\n",
       "      <td>4760.0</td>\n",
       "      <td>340.0</td>\n",
       "    </tr>\n",
       "    <tr>\n",
       "      <th>3</th>\n",
       "      <td>Y &amp; Y Consulting</td>\n",
       "      <td>1500</td>\n",
       "      <td>1650.0</td>\n",
       "      <td>2100.0</td>\n",
       "      <td>150.0</td>\n",
       "    </tr>\n",
       "    <tr>\n",
       "      <th>4</th>\n",
       "      <td>Trending Inc.</td>\n",
       "      <td>6500</td>\n",
       "      <td>7150.0</td>\n",
       "      <td>9100.0</td>\n",
       "      <td>650.0</td>\n",
       "    </tr>\n",
       "  </tbody>\n",
       "</table>\n",
       "</div>"
      ],
      "text/plain": [
       "               firm  fee_2020  fee_2021  fee_2022  value difference\n",
       "0         Bilk Inc.      1150    1265.0    1610.0             115.0\n",
       "1        Vine & Co.      2300    2530.0    3220.0             230.0\n",
       "2         Kiln Inc.      3400    3740.0    4760.0             340.0\n",
       "3  Y & Y Consulting      1500    1650.0    2100.0             150.0\n",
       "4     Trending Inc.      6500    7150.0    9100.0             650.0"
      ]
     },
     "execution_count": 7,
     "metadata": {},
     "output_type": "execute_result"
    }
   ],
   "source": [
    "df"
   ]
  },
  {
   "cell_type": "code",
   "execution_count": 8,
   "id": "17fb613e",
   "metadata": {},
   "outputs": [
    {
     "data": {
      "text/plain": [
       "0    115.0\n",
       "1    230.0\n",
       "2    340.0\n",
       "3    150.0\n",
       "4    650.0\n",
       "Name: value difference, dtype: float64"
      ]
     },
     "execution_count": 8,
     "metadata": {},
     "output_type": "execute_result"
    }
   ],
   "source": [
    "df[\"value difference\"]"
   ]
  },
  {
   "cell_type": "code",
   "execution_count": 9,
   "id": "5b367844",
   "metadata": {},
   "outputs": [
    {
     "data": {
      "text/html": [
       "<div>\n",
       "<style scoped>\n",
       "    .dataframe tbody tr th:only-of-type {\n",
       "        vertical-align: middle;\n",
       "    }\n",
       "\n",
       "    .dataframe tbody tr th {\n",
       "        vertical-align: top;\n",
       "    }\n",
       "\n",
       "    .dataframe thead th {\n",
       "        text-align: right;\n",
       "    }\n",
       "</style>\n",
       "<table border=\"1\" class=\"dataframe\">\n",
       "  <thead>\n",
       "    <tr style=\"text-align: right;\">\n",
       "      <th></th>\n",
       "      <th>firm</th>\n",
       "      <th>fee_2020</th>\n",
       "      <th>fee_2021</th>\n",
       "      <th>fee_2022</th>\n",
       "      <th>value difference</th>\n",
       "    </tr>\n",
       "  </thead>\n",
       "  <tbody>\n",
       "    <tr>\n",
       "      <th>0</th>\n",
       "      <td>Bilk Inc.</td>\n",
       "      <td>1150</td>\n",
       "      <td>1265.0</td>\n",
       "      <td>1610.0</td>\n",
       "      <td>115.0</td>\n",
       "    </tr>\n",
       "    <tr>\n",
       "      <th>1</th>\n",
       "      <td>Vine &amp; Co.</td>\n",
       "      <td>2300</td>\n",
       "      <td>2530.0</td>\n",
       "      <td>3220.0</td>\n",
       "      <td>230.0</td>\n",
       "    </tr>\n",
       "    <tr>\n",
       "      <th>2</th>\n",
       "      <td>Kiln Inc.</td>\n",
       "      <td>3400</td>\n",
       "      <td>3740.0</td>\n",
       "      <td>4760.0</td>\n",
       "      <td>340.0</td>\n",
       "    </tr>\n",
       "    <tr>\n",
       "      <th>3</th>\n",
       "      <td>Y &amp; Y Consulting</td>\n",
       "      <td>1500</td>\n",
       "      <td>1650.0</td>\n",
       "      <td>2100.0</td>\n",
       "      <td>150.0</td>\n",
       "    </tr>\n",
       "    <tr>\n",
       "      <th>4</th>\n",
       "      <td>Trending Inc.</td>\n",
       "      <td>6500</td>\n",
       "      <td>7150.0</td>\n",
       "      <td>9100.0</td>\n",
       "      <td>650.0</td>\n",
       "    </tr>\n",
       "  </tbody>\n",
       "</table>\n",
       "</div>"
      ],
      "text/plain": [
       "               firm  fee_2020  fee_2021  fee_2022  value difference\n",
       "0         Bilk Inc.      1150    1265.0    1610.0             115.0\n",
       "1        Vine & Co.      2300    2530.0    3220.0             230.0\n",
       "2         Kiln Inc.      3400    3740.0    4760.0             340.0\n",
       "3  Y & Y Consulting      1500    1650.0    2100.0             150.0\n",
       "4     Trending Inc.      6500    7150.0    9100.0             650.0"
      ]
     },
     "execution_count": 9,
     "metadata": {},
     "output_type": "execute_result"
    }
   ],
   "source": [
    "df"
   ]
  },
  {
   "cell_type": "code",
   "execution_count": 12,
   "id": "957dbb08",
   "metadata": {},
   "outputs": [],
   "source": [
    "df[\"pchange\"] = df.apply(lambda x: ((x[\"fee_2022\"] - x[\"fee_2021\"])/ (x[\"fee_2021\"])*100), axis =1 )"
   ]
  },
  {
   "cell_type": "code",
   "execution_count": 13,
   "id": "fe966e3a",
   "metadata": {},
   "outputs": [
    {
     "data": {
      "text/html": [
       "<div>\n",
       "<style scoped>\n",
       "    .dataframe tbody tr th:only-of-type {\n",
       "        vertical-align: middle;\n",
       "    }\n",
       "\n",
       "    .dataframe tbody tr th {\n",
       "        vertical-align: top;\n",
       "    }\n",
       "\n",
       "    .dataframe thead th {\n",
       "        text-align: right;\n",
       "    }\n",
       "</style>\n",
       "<table border=\"1\" class=\"dataframe\">\n",
       "  <thead>\n",
       "    <tr style=\"text-align: right;\">\n",
       "      <th></th>\n",
       "      <th>firm</th>\n",
       "      <th>fee_2020</th>\n",
       "      <th>fee_2021</th>\n",
       "      <th>fee_2022</th>\n",
       "      <th>value difference</th>\n",
       "      <th>pchange</th>\n",
       "    </tr>\n",
       "  </thead>\n",
       "  <tbody>\n",
       "    <tr>\n",
       "      <th>0</th>\n",
       "      <td>Bilk Inc.</td>\n",
       "      <td>1150</td>\n",
       "      <td>1265.0</td>\n",
       "      <td>1610.0</td>\n",
       "      <td>115.0</td>\n",
       "      <td>27.272727</td>\n",
       "    </tr>\n",
       "    <tr>\n",
       "      <th>1</th>\n",
       "      <td>Vine &amp; Co.</td>\n",
       "      <td>2300</td>\n",
       "      <td>2530.0</td>\n",
       "      <td>3220.0</td>\n",
       "      <td>230.0</td>\n",
       "      <td>27.272727</td>\n",
       "    </tr>\n",
       "    <tr>\n",
       "      <th>2</th>\n",
       "      <td>Kiln Inc.</td>\n",
       "      <td>3400</td>\n",
       "      <td>3740.0</td>\n",
       "      <td>4760.0</td>\n",
       "      <td>340.0</td>\n",
       "      <td>27.272727</td>\n",
       "    </tr>\n",
       "    <tr>\n",
       "      <th>3</th>\n",
       "      <td>Y &amp; Y Consulting</td>\n",
       "      <td>1500</td>\n",
       "      <td>1650.0</td>\n",
       "      <td>2100.0</td>\n",
       "      <td>150.0</td>\n",
       "      <td>27.272727</td>\n",
       "    </tr>\n",
       "    <tr>\n",
       "      <th>4</th>\n",
       "      <td>Trending Inc.</td>\n",
       "      <td>6500</td>\n",
       "      <td>7150.0</td>\n",
       "      <td>9100.0</td>\n",
       "      <td>650.0</td>\n",
       "      <td>27.272727</td>\n",
       "    </tr>\n",
       "  </tbody>\n",
       "</table>\n",
       "</div>"
      ],
      "text/plain": [
       "               firm  fee_2020  fee_2021  fee_2022  value difference    pchange\n",
       "0         Bilk Inc.      1150    1265.0    1610.0             115.0  27.272727\n",
       "1        Vine & Co.      2300    2530.0    3220.0             230.0  27.272727\n",
       "2         Kiln Inc.      3400    3740.0    4760.0             340.0  27.272727\n",
       "3  Y & Y Consulting      1500    1650.0    2100.0             150.0  27.272727\n",
       "4     Trending Inc.      6500    7150.0    9100.0             650.0  27.272727"
      ]
     },
     "execution_count": 13,
     "metadata": {},
     "output_type": "execute_result"
    }
   ],
   "source": [
    "df"
   ]
  },
  {
   "cell_type": "code",
   "execution_count": null,
   "id": "c91fd5b7",
   "metadata": {},
   "outputs": [],
   "source": []
  }
 ],
 "metadata": {
  "kernelspec": {
   "display_name": "Python 3 (ipykernel)",
   "language": "python",
   "name": "python3"
  },
  "language_info": {
   "codemirror_mode": {
    "name": "ipython",
    "version": 3
   },
   "file_extension": ".py",
   "mimetype": "text/x-python",
   "name": "python",
   "nbconvert_exporter": "python",
   "pygments_lexer": "ipython3",
   "version": "3.9.7"
  }
 },
 "nbformat": 4,
 "nbformat_minor": 5
}
